{
 "cells": [
  {
   "cell_type": "markdown",
   "id": "7eeef237",
   "metadata": {},
   "source": [
    "# Chapter 4 | Pathfinding and Graph Search Algorithms"
   ]
  },
  {
   "cell_type": "code",
   "execution_count": 1,
   "id": "e8361012",
   "metadata": {},
   "outputs": [],
   "source": [
    "import os.path as op\n",
    "from pyspark.sql import SparkSession\n",
    "from pyspark.sql.types import *\n",
    "from pyspark.sql.functions import *\n",
    "from graphframes import *\n",
    "\n",
    "spark = SparkSession.builder.getOrCreate() "
   ]
  },
  {
   "cell_type": "code",
   "execution_count": 11,
   "id": "f7513ac4",
   "metadata": {},
   "outputs": [
    {
     "name": "stdout",
     "output_type": "stream",
     "text": [
      "--2021-05-23 10:11:30--  https://resources.oreilly.com/examples/0636920233145/raw/master/data/transport-nodes.csv\n",
      "Resolving resources.oreilly.com (resources.oreilly.com)... 199.27.144.213, 199.27.144.212\n",
      "Connecting to resources.oreilly.com (resources.oreilly.com)|199.27.144.213|:443... connected.\n",
      "HTTP request sent, awaiting response... 200 OK\n",
      "Length: 465 [text/plain]\n",
      "Saving to: ‘../../data/transport-nodes.csv’\n",
      "\n",
      "transport-nodes.csv 100%[===================>]     465  --.-KB/s    in 0s      \n",
      "\n",
      "2021-05-23 10:11:31 (26.3 MB/s) - ‘../../data/transport-nodes.csv’ saved [465/465]\n",
      "\n",
      "--2021-05-23 10:11:31--  https://resources.oreilly.com/examples/0636920233145/raw/master/data/transport-relationships.csv\n",
      "Resolving resources.oreilly.com (resources.oreilly.com)... 199.27.144.212, 199.27.144.213\n",
      "Connecting to resources.oreilly.com (resources.oreilly.com)|199.27.144.212|:443... connected.\n",
      "HTTP request sent, awaiting response... 200 OK\n",
      "Length: 550 [text/plain]\n",
      "Saving to: ‘../../data/transport-relationships.csv’\n",
      "\n",
      "transport-relations 100%[===================>]     550  --.-KB/s    in 0s      \n",
      "\n",
      "2021-05-23 10:11:31 (27.1 MB/s) - ‘../../data/transport-relationships.csv’ saved [550/550]\n",
      "\n"
     ]
    }
   ],
   "source": [
    "## Pull\n",
    "!wget -P ../../data/ https://resources.oreilly.com/examples/0636920233145/raw/master/data/transport-nodes.csv\n",
    "!wget -P ../../data/ https://resources.oreilly.com/examples/0636920233145/raw/master/data/transport-relationships.csv"
   ]
  },
  {
   "cell_type": "code",
   "execution_count": 2,
   "id": "daba2bf9",
   "metadata": {},
   "outputs": [],
   "source": [
    "data_path = (\"../../data/\")\n",
    "rels_fname = op.join(data_path, 'transport-relationships.csv')\n",
    "node_fname = op.join(data_path, 'transport-nodes.csv')"
   ]
  },
  {
   "cell_type": "code",
   "execution_count": 3,
   "id": "7c77121d",
   "metadata": {},
   "outputs": [],
   "source": [
    "def create_transport_graph():\n",
    "    node_fields = [\n",
    "        StructField(\"id\", StringType(), True),\n",
    "        StructField(\"latitude\", FloatType(), True),\n",
    "        StructField(\"longitude\", FloatType(), True),\n",
    "        StructField(\"population\", IntegerType(), True)\n",
    "    ]    \n",
    "    nodes = spark.read.csv(node_fname, header=True, schema=StructType(node_fields))\n",
    "    \n",
    "    rels = spark.read.csv(rels_fname, header=True)\n",
    "    reversed_rels = (rels.withColumn(\"newSrc\", rels.dst)\n",
    "        .withColumn(\"newDst\", rels.src)\n",
    "        .drop(\"dst\", \"src\")\n",
    "        .withColumnRenamed(\"newSrc\", \"src\")\n",
    "        .withColumnRenamed(\"newDst\", \"dst\")\n",
    "        .select(\"src\", \"dst\", \"relationship\", \"cost\"))\n",
    "    relationships = rels.union(reversed_rels)\n",
    "    return GraphFrame(nodes, relationships)\n"
   ]
  },
  {
   "cell_type": "code",
   "execution_count": 4,
   "id": "40610deb",
   "metadata": {},
   "outputs": [],
   "source": [
    "g = create_transport_graph()"
   ]
  },
  {
   "cell_type": "markdown",
   "id": "1579e15d",
   "metadata": {},
   "source": [
    "# Breadth First Search with Apache Spark"
   ]
  },
  {
   "cell_type": "code",
   "execution_count": 6,
   "id": "4ba3ea01",
   "metadata": {},
   "outputs": [
    {
     "name": "stdout",
     "output_type": "stream",
     "text": [
      "+----------+--------+---------+----------+\n",
      "|        id|latitude|longitude|population|\n",
      "+----------+--------+---------+----------+\n",
      "|Colchester|51.88921|  0.90421|    104390|\n",
      "|   Ipswich|52.05917|  1.15545|    133384|\n",
      "+----------+--------+---------+----------+\n",
      "\n"
     ]
    }
   ],
   "source": [
    "(g.vertices\n",
    "    .filter(\"population > 100000 and population < 300000\")\n",
    "    .sort(\"population\")\n",
    "    .show())"
   ]
  },
  {
   "cell_type": "code",
   "execution_count": 7,
   "id": "f504c401",
   "metadata": {},
   "outputs": [
    {
     "name": "stdout",
     "output_type": "stream",
     "text": [
      "['from', 'e0', 'v1', 'e1', 'v2', 'e2', 'to']\n"
     ]
    }
   ],
   "source": [
    "from_expr = \"id='Den Haag'\"\n",
    "to_expr = \"population > 100000 and population < 300000 and id <> 'Den Haag'\"\n",
    "result = g.bfs(from_expr, to_expr)\n",
    "\n",
    "print(result.columns)"
   ]
  },
  {
   "cell_type": "code",
   "execution_count": null,
   "id": "2e0320b9",
   "metadata": {},
   "outputs": [],
   "source": []
  }
 ],
 "metadata": {
  "kernelspec": {
   "display_name": "PySpark_Python3",
   "language": "python",
   "name": "pyspark"
  },
  "language_info": {
   "codemirror_mode": {
    "name": "ipython",
    "version": 3
   },
   "file_extension": ".py",
   "mimetype": "text/x-python",
   "name": "python",
   "nbconvert_exporter": "python",
   "pygments_lexer": "ipython3",
   "version": "3.9.4"
  }
 },
 "nbformat": 4,
 "nbformat_minor": 5
}
